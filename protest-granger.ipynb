{
 "cells": [
  {
   "cell_type": "code",
   "execution_count": 3,
   "metadata": {},
   "outputs": [],
   "source": [
    "import pandas as pd\n",
    "import numpy as np\n",
    "import json, os, glob, re"
   ]
  },
  {
   "cell_type": "code",
   "execution_count": 4,
   "metadata": {},
   "outputs": [],
   "source": [
    "all_protests = pd.read_csv('data/raw/blm/protests.csv')"
   ]
  },
  {
   "cell_type": "code",
   "execution_count": 5,
   "metadata": {},
   "outputs": [],
   "source": [
    "def extract_state(location):\n",
    "    split = location.split(', ')\n",
    "    if len(split)==0:\n",
    "        return None\n",
    "    if len(split[-1])!=2:\n",
    "        return None\n",
    "    return split[-1].upper()\n",
    "all_protests['state'] = [extract_state(loc) for loc in all_protests.Location]\n",
    "\n",
    "def extract_city(location):\n",
    "    split = location.split(', ')\n",
    "    if len(split)<2:\n",
    "        return None\n",
    "    if len(split[-1])!=2:\n",
    "        return None\n",
    "    return split[-2]\n",
    "all_protests['city'] = [extract_city(loc) for loc in all_protests.Location]"
   ]
  },
  {
   "cell_type": "code",
   "execution_count": 6,
   "metadata": {},
   "outputs": [],
   "source": [
    "pro_victim = {\n",
    "    'for racial justice', 'for criminal justice','for criminal justice reform', 'police'\n",
    "}\n",
    "\n",
    "def tag_split(tags):\n",
    "    return set([t.lower() for t in tags.split('; ')])\n",
    "\n",
    "pro_vic_protests = all_protests[[ len(tag_split(ts).intersection(pro_victim))>0 for ts in all_protests.Tags.values]].copy()"
   ]
  },
  {
   "cell_type": "code",
   "execution_count": 8,
   "metadata": {},
   "outputs": [
    {
     "name": "stdout",
     "output_type": "stream",
     "text": [
      "Hagåtña GU\n",
      "San Juan PR\n"
     ]
    }
   ],
   "source": [
    "att = []\n",
    "for _, row in pro_vic_protests.iterrows():\n",
    "    if np.isnan(row['Attendees']):\n",
    "        consider = pro_vic_protests[pro_vic_protests['city']==row['city']]\n",
    "        if len(consider) and not np.isnan(consider['Attendees'].mean()):\n",
    "            att.append(consider['Attendees'].mean())\n",
    "        else:\n",
    "            consider = pro_vic_protests[pro_vic_protests['state']==row['state']]\n",
    "            if len(consider) and not np.isnan(consider['Attendees'].mean()):\n",
    "                att.append(consider['Attendees'].mean())\n",
    "            else:\n",
    "                print(row['city'], row['state'])\n",
    "                att.append(np.nan)\n",
    "    else:\n",
    "        att.append(row['Attendees'])"
   ]
  },
  {
   "cell_type": "code",
   "execution_count": 9,
   "metadata": {},
   "outputs": [],
   "source": [
    "def to_timeseries(df, method=None):\n",
    "    df.index = pd.to_datetime(df.index)\n",
    "    idx = pd.period_range(min(df.index), max(df.index))\n",
    "    df = df.reindex(idx.to_timestamp(), method=method)\n",
    "    df.fillna(value=0, inplace=True)\n",
    "    return df"
   ]
  },
  {
   "cell_type": "code",
   "execution_count": 10,
   "metadata": {},
   "outputs": [],
   "source": [
    "protests = pro_vic_protests.groupby('Date').sum()\n",
    "protests = to_timeseries(protests)\n",
    "protests['LogAttendees'] = np.log(protests['Attendees'] + 1)"
   ]
  },
  {
   "cell_type": "code",
   "execution_count": 11,
   "metadata": {},
   "outputs": [],
   "source": [
    "shootings_binary = pd.read_csv('data/prepared/shootings/shooting_frames.csv')\n",
    "shootings_binary['date'] = pd.to_datetime(shootings_binary['date'])\n",
    "shootings_binary[['found.mental_illness','found.criminal_record','found.fleeing',\n",
    "                            'found.video','found.age', 'found.gender','found.unarmed','found.armed',\n",
    "                            'found.race','found.official_report', 'found.interview','found.attack',\n",
    "                            'found.systemic','found.legal_language']] = (shootings_binary[['found.mental_illness','found.criminal_record','found.fleeing',\n",
    "                            'found.video','found.age', 'found.gender','found.unarmed','found.armed',\n",
    "                            'found.race','found.official_report', 'found.interview','found.attack',\n",
    "                            'found.systemic','found.legal_language']].values<np.inf).astype(int)"
   ]
  },
  {
   "cell_type": "code",
   "execution_count": 12,
   "metadata": {},
   "outputs": [],
   "source": [
    "dated_binary = shootings_binary.groupby('date').mean()[['found.mental_illness','found.criminal_record','found.fleeing',\n",
    "                                                   'found.video','found.age', 'found.gender','found.unarmed','found.armed',\n",
    "                                                   'found.race','found.official_report', 'found.interview','found.attack',\n",
    "                                                   'found.systemic','found.legal_language']]"
   ]
  },
  {
   "cell_type": "code",
   "execution_count": 13,
   "metadata": {},
   "outputs": [],
   "source": [
    "dated_binary = to_timeseries(dated_binary)"
   ]
  },
  {
   "cell_type": "code",
   "execution_count": 14,
   "metadata": {},
   "outputs": [],
   "source": [
    "dated_binary = shootings_binary.groupby('date').mean()[['found.mental_illness','found.criminal_record','found.fleeing',\n",
    "                                                   'found.video','found.age', 'found.gender','found.unarmed','found.armed',\n",
    "                                                   'found.race','found.official_report', 'found.interview','found.attack',\n",
    "                                                   'found.systemic','found.legal_language']].rolling(15, min_periods=1).sum()\n",
    "dated_binary=to_timeseries(dated_binary)"
   ]
  },
  {
   "cell_type": "code",
   "execution_count": 15,
   "metadata": {},
   "outputs": [],
   "source": [
    "dated_binary = dated_binary[dated_binary.index>=min(protests.index)]\n",
    "protests = protests[protests.index<=max(dated_binary.index)]"
   ]
  },
  {
   "cell_type": "code",
   "execution_count": 16,
   "metadata": {},
   "outputs": [
    {
     "data": {
      "text/plain": [
       "(1328, 1328)"
      ]
     },
     "execution_count": 16,
     "metadata": {},
     "output_type": "execute_result"
    }
   ],
   "source": [
    "len(dated_binary), len(protests)"
   ]
  },
  {
   "cell_type": "code",
   "execution_count": 17,
   "metadata": {},
   "outputs": [
    {
     "data": {
      "text/plain": [
       "Timestamp('2020-09-04 00:00:00', freq='D')"
      ]
     },
     "execution_count": 17,
     "metadata": {},
     "output_type": "execute_result"
    }
   ],
   "source": [
    "max(dated_binary.index)"
   ]
  },
  {
   "cell_type": "code",
   "execution_count": 18,
   "metadata": {},
   "outputs": [],
   "source": [
    "from statsmodels.tsa.stattools import grangercausalitytests\n",
    "from scipy.stats import pearsonr\n",
    "from statsmodels.tsa.stattools import adfuller"
   ]
  },
  {
   "cell_type": "code",
   "execution_count": 19,
   "metadata": {},
   "outputs": [
    {
     "data": {
      "text/plain": [
       "(-8.842570042134522,\n",
       " 1.653243575182644e-14,\n",
       " 8,\n",
       " 1319,\n",
       " {'1%': -3.4353174541055567,\n",
       "  '5%': -2.863733732389869,\n",
       "  '10%': -2.5679379527245407},\n",
       " 28988.890762563275)"
      ]
     },
     "execution_count": 19,
     "metadata": {},
     "output_type": "execute_result"
    }
   ],
   "source": [
    "# we reject the null hypothesis that there is a unit root and thus Attendees is stationary\n",
    "adfuller(protests['Attendees'])"
   ]
  },
  {
   "cell_type": "code",
   "execution_count": 20,
   "metadata": {},
   "outputs": [
    {
     "data": {
      "text/plain": [
       "(-6.580959525265646,\n",
       " 7.516533482886827e-09,\n",
       " 14,\n",
       " 1313,\n",
       " {'1%': -3.435340198430096,\n",
       "  '5%': -2.863743768394356,\n",
       "  '10%': -2.567943297315671},\n",
       " 1755.5661801695403)"
      ]
     },
     "execution_count": 20,
     "metadata": {},
     "output_type": "execute_result"
    }
   ],
   "source": [
    "# we reject the null hypothesis that there is a unit root and thus found.race is stationary\n",
    "adfuller(dated_binary['found.race'])"
   ]
  },
  {
   "cell_type": "code",
   "execution_count": 21,
   "metadata": {},
   "outputs": [
    {
     "data": {
      "text/plain": [
       "(-5.349317151185906,\n",
       " 4.324387032896597e-06,\n",
       " 18,\n",
       " 1309,\n",
       " {'1%': -3.4353554773774553,\n",
       "  '5%': -2.86375051023515,\n",
       "  '10%': -2.5679468876340037},\n",
       " -750.1322640298381)"
      ]
     },
     "execution_count": 21,
     "metadata": {},
     "output_type": "execute_result"
    }
   ],
   "source": [
    "# we reject the null hypothesis that there is a unit root and thus found.race is stationary\n",
    "adfuller(dated_binary['found.unarmed'])"
   ]
  },
  {
   "cell_type": "code",
   "execution_count": 22,
   "metadata": {},
   "outputs": [
    {
     "data": {
      "text/plain": [
       "(-4.5050907216164084,\n",
       " 0.0001925167113871787,\n",
       " 7,\n",
       " 1320,\n",
       " {'1%': -3.4353136835264664,\n",
       "  '5%': -2.863732068602694,\n",
       "  '10%': -2.5679370666896233},\n",
       " 2136.768293020318)"
      ]
     },
     "execution_count": 22,
     "metadata": {},
     "output_type": "execute_result"
    }
   ],
   "source": [
    "# we reject the null hypothesis that there is a unit root and thus found.race is stationary\n",
    "adfuller(dated_binary['found.systemic'])"
   ]
  },
  {
   "cell_type": "code",
   "execution_count": 24,
   "metadata": {
    "scrolled": true
   },
   "outputs": [
    {
     "name": "stdout",
     "output_type": "stream",
     "text": [
      "(0.1137703823424304, 3.244562749237413e-05)\n",
      "\n",
      "Granger Causality\n",
      "number of lags (no zero) 1\n",
      "ssr based F test:         F=7.7521  , p=0.0054  , df_denom=1324, df_num=1\n",
      "ssr based chi2 test:   chi2=7.7696  , p=0.0053  , df=1\n",
      "likelihood ratio test: chi2=7.7470  , p=0.0054  , df=1\n",
      "parameter F test:         F=7.7521  , p=0.0054  , df_denom=1324, df_num=1\n",
      "\n",
      "Granger Causality\n",
      "number of lags (no zero) 2\n",
      "ssr based F test:         F=3.7594  , p=0.0235  , df_denom=1321, df_num=2\n",
      "ssr based chi2 test:   chi2=7.5472  , p=0.0230  , df=2\n",
      "likelihood ratio test: chi2=7.5258  , p=0.0232  , df=2\n",
      "parameter F test:         F=3.7594  , p=0.0235  , df_denom=1321, df_num=2\n"
     ]
    },
    {
     "data": {
      "text/plain": [
       "{1: ({'ssr_ftest': (7.75207974443201, 0.005441442804637791, 1324.0, 1),\n",
       "   'ssr_chi2test': (7.769644879804591, 0.00531314934981986, 1),\n",
       "   'lrtest': (7.746987466220844, 0.0053802215798856535, 1),\n",
       "   'params_ftest': (7.752079744432018, 0.005441442804637791, 1324.0, 1.0)},\n",
       "  [<statsmodels.regression.linear_model.RegressionResultsWrapper at 0x7f72920fa750>,\n",
       "   <statsmodels.regression.linear_model.RegressionResultsWrapper at 0x7f72920cff50>,\n",
       "   array([[0., 1., 0.]])]),\n",
       " 2: ({'ssr_ftest': (3.7593666684525084, 0.02354813862068362, 1321.0, 2),\n",
       "   'ssr_chi2test': (7.547191827960677, 0.02296931891056697, 2),\n",
       "   'lrtest': (7.525794810698017, 0.023216375579675902, 2),\n",
       "   'params_ftest': (3.7593666684050135, 0.023548138621792697, 1321.0, 2.0)},\n",
       "  [<statsmodels.regression.linear_model.RegressionResultsWrapper at 0x7f7292101090>,\n",
       "   <statsmodels.regression.linear_model.RegressionResultsWrapper at 0x7f7292101b50>,\n",
       "   array([[0., 0., 1., 0., 0.],\n",
       "          [0., 0., 0., 1., 0.]])])}"
      ]
     },
     "execution_count": 24,
     "metadata": {},
     "output_type": "execute_result"
    }
   ],
   "source": [
    "consider= dated_binary[['found.race']].join(protests[['Attendees']].copy())\n",
    "print(pearsonr(consider['Attendees'].values , consider['found.race'].values))\n",
    "grangercausalitytests(consider, maxlag=2, addconst=True, verbose=True)"
   ]
  },
  {
   "cell_type": "code",
   "execution_count": 25,
   "metadata": {
    "scrolled": true
   },
   "outputs": [
    {
     "name": "stdout",
     "output_type": "stream",
     "text": [
      "(0.011131870554487121, 0.6852605175304168)\n",
      "\n",
      "Granger Causality\n",
      "number of lags (no zero) 1\n",
      "ssr based F test:         F=0.6396  , p=0.4240  , df_denom=1324, df_num=1\n",
      "ssr based chi2 test:   chi2=0.6410  , p=0.4233  , df=1\n",
      "likelihood ratio test: chi2=0.6409  , p=0.4234  , df=1\n",
      "parameter F test:         F=0.6396  , p=0.4240  , df_denom=1324, df_num=1\n",
      "\n",
      "Granger Causality\n",
      "number of lags (no zero) 2\n",
      "ssr based F test:         F=0.9531  , p=0.3858  , df_denom=1321, df_num=2\n",
      "ssr based chi2 test:   chi2=1.9133  , p=0.3842  , df=2\n",
      "likelihood ratio test: chi2=1.9119  , p=0.3844  , df=2\n",
      "parameter F test:         F=0.9531  , p=0.3858  , df_denom=1321, df_num=2\n"
     ]
    },
    {
     "data": {
      "text/plain": [
       "{1: ({'ssr_ftest': (0.6395657833142451, 0.4240115316851255, 1324.0, 1),\n",
       "   'ssr_chi2test': (0.6410149504969813, 0.4233435077223783, 1),\n",
       "   'lrtest': (0.6408601773664486, 0.4233994860536281, 1),\n",
       "   'params_ftest': (0.6395657833146746, 0.4240115316849655, 1324.0, 1.0)},\n",
       "  [<statsmodels.regression.linear_model.RegressionResultsWrapper at 0x7f72920faf50>,\n",
       "   <statsmodels.regression.linear_model.RegressionResultsWrapper at 0x7f72920fabd0>,\n",
       "   array([[0., 1., 0.]])]),\n",
       " 2: ({'ssr_ftest': (0.9530533349257138, 0.38582692055829704, 1321.0, 2),\n",
       "   'ssr_chi2test': (1.9133213052407214, 0.3841736355743226, 2),\n",
       "   'lrtest': (1.9119422401154225, 0.38443862715542515, 2),\n",
       "   'params_ftest': (0.9530533350723729, 0.3858269205018, 1321.0, 2.0)},\n",
       "  [<statsmodels.regression.linear_model.RegressionResultsWrapper at 0x7f72920e27d0>,\n",
       "   <statsmodels.regression.linear_model.RegressionResultsWrapper at 0x7f734da26d90>,\n",
       "   array([[0., 0., 1., 0., 0.],\n",
       "          [0., 0., 0., 1., 0.]])])}"
      ]
     },
     "execution_count": 25,
     "metadata": {},
     "output_type": "execute_result"
    }
   ],
   "source": [
    "consider= dated_binary[['found.unarmed']].join(protests[['Attendees']].copy())\n",
    "print(pearsonr(consider['Attendees'].values , consider['found.unarmed'].values))\n",
    "grangercausalitytests(consider, maxlag=2, addconst=True, verbose=True)"
   ]
  },
  {
   "cell_type": "code",
   "execution_count": null,
   "metadata": {},
   "outputs": [],
   "source": []
  },
  {
   "cell_type": "code",
   "execution_count": 42,
   "metadata": {
    "scrolled": true
   },
   "outputs": [
    {
     "name": "stdout",
     "output_type": "stream",
     "text": [
      "(0.07344779192739316, 0.00741380770882648)\n",
      "\n",
      "Granger Causality\n",
      "number of lags (no zero) 1\n",
      "ssr based F test:         F=1.9334  , p=0.1646  , df_denom=1324, df_num=1\n",
      "ssr based chi2 test:   chi2=1.9378  , p=0.1639  , df=1\n",
      "likelihood ratio test: chi2=1.9364  , p=0.1641  , df=1\n",
      "parameter F test:         F=1.9334  , p=0.1646  , df_denom=1324, df_num=1\n",
      "\n",
      "Granger Causality\n",
      "number of lags (no zero) 2\n",
      "ssr based F test:         F=6.0475  , p=0.0024  , df_denom=1321, df_num=2\n",
      "ssr based chi2 test:   chi2=12.1407 , p=0.0023  , df=2\n",
      "likelihood ratio test: chi2=12.0855 , p=0.0024  , df=2\n",
      "parameter F test:         F=6.0475  , p=0.0024  , df_denom=1321, df_num=2\n"
     ]
    },
    {
     "data": {
      "text/plain": [
       "{1: ({'ssr_ftest': (1.9334462626153535, 0.1646155749416249, 1324.0, 1),\n",
       "   'ssr_chi2test': (1.9378271831499805, 0.16390464948639444, 1),\n",
       "   'lrtest': (1.9364136479625813, 0.16405846426071224, 1),\n",
       "   'params_ftest': (1.9334462626151125, 0.16461557494172074, 1324.0, 1.0)},\n",
       "  [<statsmodels.regression.linear_model.RegressionResultsWrapper at 0x7f7590b2b750>,\n",
       "   <statsmodels.regression.linear_model.RegressionResultsWrapper at 0x7f7591774750>,\n",
       "   array([[0., 1., 0.]])]),\n",
       " 2: ({'ssr_ftest': (6.047458725224418, 0.002429811354468975, 1321.0, 2),\n",
       "   'ssr_chi2test': (12.140696850336985, 0.002310368079958846, 2),\n",
       "   'lrtest': (12.085454408153964, 0.002375072764983717, 2),\n",
       "   'params_ftest': (6.047458725384525, 0.002429811354083257, 1321.0, 2.0)},\n",
       "  [<statsmodels.regression.linear_model.RegressionResultsWrapper at 0x7f75909a2190>,\n",
       "   <statsmodels.regression.linear_model.RegressionResultsWrapper at 0x7f75909a2050>,\n",
       "   array([[0., 0., 1., 0., 0.],\n",
       "          [0., 0., 0., 1., 0.]])])}"
      ]
     },
     "execution_count": 42,
     "metadata": {},
     "output_type": "execute_result"
    }
   ],
   "source": [
    "consider= dated_binary[['found.unarmed']].join(protests[['Attendees']].copy())\n",
    "print(pearsonr(consider['Attendees'].values , consider['found.unarmed'].values))\n",
    "grangercausalitytests(consider, maxlag=2, addconst=True, verbose=True)"
   ]
  },
  {
   "cell_type": "code",
   "execution_count": 45,
   "metadata": {
    "scrolled": true
   },
   "outputs": [
    {
     "name": "stdout",
     "output_type": "stream",
     "text": [
      "(0.08819928617398119, 0.001293671168171001)\n",
      "\n",
      "Granger Causality\n",
      "number of lags (no zero) 1\n",
      "ssr based F test:         F=0.1308  , p=0.7177  , df_denom=1324, df_num=1\n",
      "ssr based chi2 test:   chi2=0.1311  , p=0.7173  , df=1\n",
      "likelihood ratio test: chi2=0.1311  , p=0.7173  , df=1\n",
      "parameter F test:         F=0.1308  , p=0.7177  , df_denom=1324, df_num=1\n",
      "\n",
      "Granger Causality\n",
      "number of lags (no zero) 2\n",
      "ssr based F test:         F=2.6333  , p=0.0722  , df_denom=1321, df_num=2\n",
      "ssr based chi2 test:   chi2=5.2866  , p=0.0711  , df=2\n",
      "likelihood ratio test: chi2=5.2761  , p=0.0715  , df=2\n",
      "parameter F test:         F=2.6333  , p=0.0722  , df_denom=1321, df_num=2\n"
     ]
    },
    {
     "data": {
      "text/plain": [
       "{1: ({'ssr_ftest': (0.13077155377489968, 0.7176911038646188, 1324.0, 1),\n",
       "   'ssr_chi2test': (0.13106786394206335, 0.7173274003807627, 1),\n",
       "   'lrtest': (0.13106139157389407, 0.7173340802845576, 1),\n",
       "   'params_ftest': (0.13077155377535343, 0.7176911038641633, 1324.0, 1.0)},\n",
       "  [<statsmodels.regression.linear_model.RegressionResultsWrapper at 0x7f75909a2390>,\n",
       "   <statsmodels.regression.linear_model.RegressionResultsWrapper at 0x7f75909a2410>,\n",
       "   array([[0., 1., 0.]])]),\n",
       " 2: ({'ssr_ftest': (2.63331580759582, 0.07221695709376003, 1321.0, 2),\n",
       "   'ssr_chi2test': (5.286565875657923, 0.07112737907905102, 2),\n",
       "   'lrtest': (5.276055424026708, 0.07150215341714806, 2),\n",
       "   'params_ftest': (2.633315807595703, 0.07221695709376832, 1321.0, 2.0)},\n",
       "  [<statsmodels.regression.linear_model.RegressionResultsWrapper at 0x7f759092a750>,\n",
       "   <statsmodels.regression.linear_model.RegressionResultsWrapper at 0x7f759092a4d0>,\n",
       "   array([[0., 0., 1., 0., 0.],\n",
       "          [0., 0., 0., 1., 0.]])])}"
      ]
     },
     "execution_count": 45,
     "metadata": {},
     "output_type": "execute_result"
    }
   ],
   "source": [
    "consider=protests[['Attendees']].copy().join(dated_binary[['found.systemic']])\n",
    "print(pearsonr(consider['Attendees'].values , consider['found.systemic'].values))\n",
    "grangercausalitytests(consider, maxlag=2, addconst=True, verbose=True)"
   ]
  },
  {
   "cell_type": "code",
   "execution_count": 44,
   "metadata": {
    "scrolled": true
   },
   "outputs": [
    {
     "name": "stdout",
     "output_type": "stream",
     "text": [
      "(0.08819928617398119, 0.001293671168171001)\n",
      "\n",
      "Granger Causality\n",
      "number of lags (no zero) 1\n",
      "ssr based F test:         F=3.0666  , p=0.0801  , df_denom=1324, df_num=1\n",
      "ssr based chi2 test:   chi2=3.0736  , p=0.0796  , df=1\n",
      "likelihood ratio test: chi2=3.0700  , p=0.0797  , df=1\n",
      "parameter F test:         F=3.0666  , p=0.0801  , df_denom=1324, df_num=1\n",
      "\n",
      "Granger Causality\n",
      "number of lags (no zero) 2\n",
      "ssr based F test:         F=2.8196  , p=0.0600  , df_denom=1321, df_num=2\n",
      "ssr based chi2 test:   chi2=5.6605  , p=0.0590  , df=2\n",
      "likelihood ratio test: chi2=5.6485  , p=0.0594  , df=2\n",
      "parameter F test:         F=2.8196  , p=0.0600  , df_denom=1321, df_num=2\n"
     ]
    },
    {
     "data": {
      "text/plain": [
       "{1: ({'ssr_ftest': (3.066624720296011, 0.0801467929582978, 1324.0, 1),\n",
       "   'ssr_chi2test': (3.0735732657347485, 0.07957438634762673, 1),\n",
       "   'lrtest': (3.0700192752201474, 0.07974852619256517, 1),\n",
       "   'params_ftest': (3.0666247202962564, 0.08014679295827701, 1324.0, 1.0)},\n",
       "  [<statsmodels.regression.linear_model.RegressionResultsWrapper at 0x7f75909750d0>,\n",
       "   <statsmodels.regression.linear_model.RegressionResultsWrapper at 0x7f75909a2990>,\n",
       "   array([[0., 1., 0.]])]),\n",
       " 2: ({'ssr_ftest': (2.819601027297349, 0.0599886549587093, 1321.0, 2),\n",
       "   'ssr_chi2test': (5.66054649840467, 0.05899673065715559, 2),\n",
       "   'lrtest': (5.648498651846239, 0.059353195015394516, 2),\n",
       "   'params_ftest': (2.8196010278090626, 0.05998865492814545, 1321.0, 2.0)},\n",
       "  [<statsmodels.regression.linear_model.RegressionResultsWrapper at 0x7f7590938610>,\n",
       "   <statsmodels.regression.linear_model.RegressionResultsWrapper at 0x7f7590938e50>,\n",
       "   array([[0., 0., 1., 0., 0.],\n",
       "          [0., 0., 0., 1., 0.]])])}"
      ]
     },
     "execution_count": 44,
     "metadata": {},
     "output_type": "execute_result"
    }
   ],
   "source": [
    "consider= dated_binary[['found.systemic']].join(protests[['Attendees']].copy())\n",
    "print(pearsonr(consider['Attendees'].values , consider['found.systemic'].values))\n",
    "grangercausalitytests(consider, maxlag=2, addconst=True, verbose=True)"
   ]
  },
  {
   "cell_type": "code",
   "execution_count": null,
   "metadata": {},
   "outputs": [],
   "source": []
  },
  {
   "cell_type": "code",
   "execution_count": null,
   "metadata": {},
   "outputs": [],
   "source": []
  },
  {
   "cell_type": "code",
   "execution_count": null,
   "metadata": {},
   "outputs": [],
   "source": []
  },
  {
   "cell_type": "code",
   "execution_count": null,
   "metadata": {},
   "outputs": [],
   "source": []
  },
  {
   "cell_type": "code",
   "execution_count": 34,
   "metadata": {
    "scrolled": true
   },
   "outputs": [],
   "source": [
    "j = pd.read_csv('data-prepared/shootings/shooting_frames.csv')"
   ]
  },
  {
   "cell_type": "code",
   "execution_count": 39,
   "metadata": {},
   "outputs": [],
   "source": [
    "j[(j['leaning']==0) | (j['leaning']==2)][['id', 'page_num', 'url', 'leaning']].sample(frac=1, random_state=0).to_csv('TEMP.csv', index=False)"
   ]
  },
  {
   "cell_type": "code",
   "execution_count": null,
   "metadata": {},
   "outputs": [],
   "source": []
  }
 ],
 "metadata": {
  "kernelspec": {
   "display_name": "Python 3",
   "language": "python",
   "name": "python3"
  },
  "language_info": {
   "codemirror_mode": {
    "name": "ipython",
    "version": 3
   },
   "file_extension": ".py",
   "mimetype": "text/x-python",
   "name": "python",
   "nbconvert_exporter": "python",
   "pygments_lexer": "ipython3",
   "version": "3.7.9"
  }
 },
 "nbformat": 4,
 "nbformat_minor": 4
}
